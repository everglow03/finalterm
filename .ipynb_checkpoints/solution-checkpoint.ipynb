{
 "cells": [
  {
   "cell_type": "code",
   "execution_count": 30,
   "id": "0ef0a9ad",
   "metadata": {
    "scrolled": true
   },
   "outputs": [
    {
     "name": "stdout",
     "output_type": "stream",
     "text": [
      "{'Afghanistan': ['Johnson&Johnson, Oxford/AstraZeneca, Pfizer/BioNTech, Sinopharm/Beijing'], 'Albania': ['Oxford/AstraZeneca, Pfizer/BioNTech, Sinovac, Sputnik V'], 'Algeria': ['Oxford/AstraZeneca, Sinopharm/Beijing, Sinovac, Sputnik V'], 'Andorra': ['Moderna, Oxford/AstraZeneca, Pfizer/BioNTech'], 'Angola': ['Oxford/AstraZeneca'], 'Anguilla': ['Oxford/AstraZeneca, Pfizer/BioNTech'], 'Antigua and Barbuda': ['Oxford/AstraZeneca, Pfizer/BioNTech, Sputnik V'], 'Argentina': ['CanSino, Moderna, Oxford/AstraZeneca, Pfizer/BioNTech, Sinopharm/Beijing, Sputnik V'], 'Armenia': ['Moderna, Oxford/AstraZeneca, Sinopharm/Beijing, Sinovac, Sputnik V'], 'Aruba': ['Pfizer/BioNTech'], 'Australia': ['Moderna, Oxford/AstraZeneca, Pfizer/BioNTech'], 'Austria': ['Johnson&Johnson, Moderna, Novavax, Oxford/AstraZeneca, Pfizer/BioNTech'], 'Azerbaijan': ['Oxford/AstraZeneca, Pfizer/BioNTech, Sinovac, Sputnik V'], 'Bahamas': ['Johnson&Johnson, Oxford/AstraZeneca, Pfizer/BioNTech'], 'Bahrain': ['Johnson&Johnson, Moderna, Oxford/AstraZeneca, Pfizer/BioNTech, Sinopharm/Beijing, Sputnik Light, Sputnik V'], 'Bangladesh': ['Johnson&Johnson, Moderna, Oxford/AstraZeneca, Pfizer/BioNTech, Sinopharm/Beijing, Sinovac'], 'Barbados': ['Oxford/AstraZeneca, Pfizer/BioNTech, Sinopharm/Beijing'], 'Belarus': ['Sinopharm/Beijing, Sputnik V'], 'Belgium': ['Johnson&Johnson, Moderna, Oxford/AstraZeneca, Pfizer/BioNTech'], 'Belize': ['Johnson&Johnson, Oxford/AstraZeneca, Pfizer/BioNTech, Sinopharm/Beijing'], 'Benin': ['Johnson&Johnson, Oxford/AstraZeneca, Pfizer/BioNTech, Sinovac'], 'Bermuda': ['Oxford/AstraZeneca, Pfizer/BioNTech'], 'Bhutan': ['Moderna, Oxford/AstraZeneca, Pfizer/BioNTech, Sinopharm/Beijing'], 'Bolivia': ['Johnson&Johnson, Oxford/AstraZeneca, Pfizer/BioNTech, Sinopharm/Beijing, Sputnik V'], 'Bonaire Sint Eustatius and Saba': ['Moderna, Pfizer/BioNTech'], 'Bosnia and Herzegovina': ['Oxford/AstraZeneca, Pfizer/BioNTech, Sinovac, Sputnik V'], 'Botswana': ['Covaxin, Johnson&Johnson, Moderna, Oxford/AstraZeneca, Pfizer/BioNTech, Sinovac'], 'Brazil': ['Johnson&Johnson, Oxford/AstraZeneca, Pfizer/BioNTech, Sinovac'], 'British Virgin Islands': ['Johnson&Johnson, Oxford/AstraZeneca'], 'Brunei': ['Johnson&Johnson, Moderna, Oxford/AstraZeneca, Pfizer/BioNTech, Sinopharm/Beijing'], 'Bulgaria': ['Johnson&Johnson, Moderna, Oxford/AstraZeneca, Pfizer/BioNTech'], 'Burkina Faso': ['Johnson&Johnson, Oxford/AstraZeneca, Sinopharm/Beijing'], 'Burundi': ['Sinopharm/Beijing'], 'Cambodia': ['Johnson&Johnson, Oxford/AstraZeneca, Sinopharm/Beijing, Sinovac'], 'Cameroon': ['Johnson&Johnson, Oxford/AstraZeneca, Pfizer/BioNTech, Sinopharm/Beijing'], 'Canada': ['Johnson&Johnson, Moderna, Oxford/AstraZeneca, Pfizer/BioNTech'], 'Cape Verde': ['Moderna, Oxford/AstraZeneca, Pfizer/BioNTech, Sinopharm/Beijing'], 'Cayman Islands': ['Oxford/AstraZeneca, Pfizer/BioNTech'], 'Central African Republic': ['Covaxin, Oxford/AstraZeneca'], 'Chad': ['Sinopharm/Beijing'], 'Chile': ['CanSino, Oxford/AstraZeneca, Pfizer/BioNTech, Sinovac'], 'China': ['CanSino, Sinopharm/Beijing, Sinopharm/Wuhan, Sinovac, ZF2001'], 'Colombia': ['Johnson&Johnson, Moderna, Oxford/AstraZeneca, Pfizer/BioNTech, Sinovac'], 'Comoros': ['Covaxin, Oxford/AstraZeneca, Sinopharm/Beijing'], 'Congo': ['Moderna, Oxford/AstraZeneca, Sinopharm/Beijing, Sputnik V'], 'Cook Islands': ['Pfizer/BioNTech'], 'Costa Rica': ['Oxford/AstraZeneca, Pfizer/BioNTech'], \"Cote d'Ivoire\": ['Johnson&Johnson, Oxford/AstraZeneca, Pfizer/BioNTech, Sinopharm/Beijing, Sputnik V'], 'Croatia': ['Johnson&Johnson, Moderna, Oxford/AstraZeneca, Pfizer/BioNTech'], 'Cuba': ['Abdala, Soberana Plus, Soberana02'], 'Curacao': ['Moderna, Pfizer/BioNTech'], 'Cyprus': ['Johnson&Johnson, Moderna, Oxford/AstraZeneca, Pfizer/BioNTech'], 'Czechia': ['Johnson&Johnson, Moderna, Novavax, Oxford/AstraZeneca, Pfizer/BioNTech'], 'Democratic Republic of Congo': ['Oxford/AstraZeneca'], 'Denmark': ['Johnson&Johnson, Moderna, Pfizer/BioNTech'], 'Djibouti': ['Johnson&Johnson, Oxford/AstraZeneca, Pfizer/BioNTech, Sinopharm/Beijing, Sinovac, Sputnik V'], 'Dominica': ['Oxford/AstraZeneca, Pfizer/BioNTech, Sinopharm/Beijing'], 'Dominican Republic': ['Oxford/AstraZeneca, Pfizer/BioNTech, Sinopharm/Beijing, Sinovac'], 'Ecuador': ['CanSino, Oxford/AstraZeneca, Pfizer/BioNTech, Sinovac'], 'Egypt': ['Johnson&Johnson, Oxford/AstraZeneca, Pfizer/BioNTech, Sinopharm/Beijing, Sinovac, Sputnik V'], 'El Salvador': ['Oxford/AstraZeneca, Pfizer/BioNTech, Sinopharm/Beijing, Sinovac'], 'England': ['Moderna, Oxford/AstraZeneca, Pfizer/BioNTech'], 'Equatorial Guinea': ['Sinopharm/Beijing'], 'Estonia': ['Johnson&Johnson, Moderna, Oxford/AstraZeneca, Pfizer/BioNTech'], 'Eswatini': ['Johnson&Johnson, Oxford/AstraZeneca, Pfizer/BioNTech'], 'Ethiopia': ['Covaxin, Johnson&Johnson, Oxford/AstraZeneca, Sinopharm/Beijing, Sinovac'], 'Faeroe Islands': ['Moderna, Pfizer/BioNTech'], 'Falkland Islands': ['Oxford/AstraZeneca'], 'Fiji': ['Moderna, Oxford/AstraZeneca, Pfizer/BioNTech'], 'Finland': ['Moderna, Oxford/AstraZeneca, Pfizer/BioNTech'], 'France': ['Johnson&Johnson, Moderna, Oxford/AstraZeneca, Pfizer/BioNTech'], 'French Polynesia': ['Johnson&Johnson, Pfizer/BioNTech'], 'Gabon': ['Pfizer/BioNTech, Sinopharm/Beijing, Sputnik V'], 'Gambia': ['Johnson&Johnson, Oxford/AstraZeneca, Sinopharm/Beijing'], 'Georgia': ['Oxford/AstraZeneca, Pfizer/BioNTech, Sinopharm/Beijing, Sinovac'], 'Germany': ['Johnson&Johnson, Moderna, Novavax, Oxford/AstraZeneca, Pfizer/BioNTech'], 'Ghana': ['Oxford/AstraZeneca, Sputnik V'], 'Gibraltar': ['Oxford/AstraZeneca, Pfizer/BioNTech'], 'Greece': ['Johnson&Johnson, Moderna, Oxford/AstraZeneca, Pfizer/BioNTech'], 'Greenland': ['Moderna'], 'Grenada': ['Johnson&Johnson, Oxford/AstraZeneca, Pfizer/BioNTech'], 'Guatemala': ['Moderna, Oxford/AstraZeneca, Pfizer/BioNTech, Sputnik V'], 'Guernsey': ['Moderna, Oxford/AstraZeneca, Pfizer/BioNTech'], 'Guinea': ['Johnson&Johnson, Oxford/AstraZeneca, Pfizer/BioNTech, Sinopharm/Beijing, Sinovac, Sputnik V'], 'Guinea-Bissau': ['Oxford/AstraZeneca, Sinopharm/Beijing'], 'Guyana': ['Moderna, Oxford/AstraZeneca, Pfizer/BioNTech, Sinopharm/Beijing, Sputnik V'], 'Haiti': ['Johnson&Johnson, Moderna'], 'Honduras': ['Johnson&Johnson, Moderna, Oxford/AstraZeneca, Pfizer/BioNTech, Sputnik V'], 'Hong Kong': ['Pfizer/BioNTech, Sinovac'], 'Hungary': ['Johnson&Johnson, Moderna, Oxford/AstraZeneca, Pfizer/BioNTech, Sinopharm/Beijing, Sputnik V'], 'Iceland': ['Johnson&Johnson, Moderna, Oxford/AstraZeneca, Pfizer/BioNTech'], 'India': ['Covaxin, Oxford/AstraZeneca, Sputnik V'], 'Indonesia': ['Johnson&Johnson, Moderna, Novavax, Oxford/AstraZeneca, Pfizer/BioNTech, Sinopharm/Beijing, Sinovac'], 'Iran': ['COVIran Barekat, Covaxin, FAKHRAVAC, Oxford/AstraZeneca, Razi Cov Pars, Sinopharm/Beijing, Soberana02, SpikoGen, Sputnik V'], 'Iraq': ['Oxford/AstraZeneca, Pfizer/BioNTech, Sinopharm/Beijing, Sputnik V'], 'Ireland': ['Johnson&Johnson, Moderna, Oxford/AstraZeneca, Pfizer/BioNTech'], 'Isle of Man': ['Moderna, Oxford/AstraZeneca, Pfizer/BioNTech'], 'Israel': ['Moderna, Pfizer/BioNTech'], 'Italy': ['Johnson&Johnson, Moderna, Novavax, Oxford/AstraZeneca, Pfizer/BioNTech'], 'Jamaica': ['Johnson&Johnson, Moderna, Oxford/AstraZeneca, Pfizer/BioNTech'], 'Japan': ['Moderna, Oxford/AstraZeneca, Pfizer/BioNTech'], 'Jersey': ['Moderna, Oxford/AstraZeneca, Pfizer/BioNTech'], 'Jordan': ['Johnson&Johnson, Moderna, Oxford/AstraZeneca, Pfizer/BioNTech, Sinopharm/Beijing, Sputnik V'], 'Kazakhstan': ['QazVac, Sinopharm/Beijing, Sputnik V'], 'Kenya': ['Johnson&Johnson, Moderna, Oxford/AstraZeneca, Pfizer/BioNTech, Sinopharm/Beijing'], 'Kiribati': ['Oxford/AstraZeneca'], 'Kosovo': ['Oxford/AstraZeneca, Pfizer/BioNTech'], 'Kuwait': ['Johnson&Johnson, Moderna, Oxford/AstraZeneca, Pfizer/BioNTech, Sinopharm/Beijing'], 'Kyrgyzstan': ['Sinopharm/Beijing, Sputnik V'], 'Laos': ['Johnson&Johnson, Oxford/AstraZeneca, Pfizer/BioNTech, Sinopharm/Beijing, Sinovac, Sputnik Light, Sputnik V'], 'Latvia': ['Johnson&Johnson, Moderna, Novavax, Pfizer/BioNTech'], 'Lebanon': ['Oxford/AstraZeneca, Pfizer/BioNTech, Sinopharm/Beijing, Sputnik V'], 'Lesotho': ['Johnson&Johnson, Oxford/AstraZeneca, Sinopharm/Beijing'], 'Liberia': ['Oxford/AstraZeneca'], 'Libya': ['Oxford/AstraZeneca, Pfizer/BioNTech, Sinopharm/Beijing, Sinovac, Sputnik V'], 'Liechtenstein': ['Johnson&Johnson, Moderna, Pfizer/BioNTech'], 'Lithuania': ['Johnson&Johnson, Moderna, Novavax, Oxford/AstraZeneca, Pfizer/BioNTech'], 'Luxembourg': ['Johnson&Johnson, Moderna, Oxford/AstraZeneca, Pfizer/BioNTech'], 'Macao': ['Pfizer/BioNTech, Sinopharm/Beijing'], 'Madagascar': ['Johnson&Johnson, Oxford/AstraZeneca, Sinopharm/Beijing'], 'Malawi': ['Johnson&Johnson, Oxford/AstraZeneca'], 'Malaysia': ['CanSino, Oxford/AstraZeneca, Pfizer/BioNTech, Sinopharm/Beijing, Sinovac'], 'Maldives': ['Oxford/AstraZeneca, Pfizer/BioNTech, Sinopharm/Beijing'], 'Mali': ['Oxford/AstraZeneca'], 'Malta': ['Johnson&Johnson, Moderna, Oxford/AstraZeneca, Pfizer/BioNTech'], 'Mauritania': ['Oxford/AstraZeneca, Sinopharm/Beijing'], 'Mauritius': ['Covaxin, Oxford/AstraZeneca, Sinopharm/Beijing'], 'Mexico': ['CanSino, Johnson&Johnson, Moderna, Oxford/AstraZeneca, Pfizer/BioNTech, Sinovac, Sputnik V'], 'Moldova': ['Johnson&Johnson, Oxford/AstraZeneca, Pfizer/BioNTech, Sinopharm/Beijing, Sputnik V'], 'Monaco': ['Pfizer/BioNTech'], 'Mongolia': ['Oxford/AstraZeneca, Pfizer/BioNTech, Sinopharm/Beijing, Sputnik V'], 'Montenegro': ['Oxford/AstraZeneca, Pfizer/BioNTech, Sinopharm/Beijing, Sputnik V'], 'Montserrat': ['Oxford/AstraZeneca'], 'Morocco': ['Johnson&Johnson, Oxford/AstraZeneca, Pfizer/BioNTech, Sinopharm/Beijing, Sputnik V'], 'Mozambique': ['Johnson&Johnson, Oxford/AstraZeneca, Sinopharm/Beijing'], 'Myanmar': ['Oxford/AstraZeneca, Sinopharm/Beijing'], 'Namibia': ['Johnson&Johnson, Oxford/AstraZeneca, Pfizer/BioNTech, Sinopharm/Beijing'], 'Nauru': ['Oxford/AstraZeneca'], 'Nepal': ['Johnson&Johnson, Moderna, Oxford/AstraZeneca, Pfizer/BioNTech, Sinopharm/Beijing'], 'Netherlands': ['Johnson&Johnson, Moderna, Novavax, Oxford/AstraZeneca, Pfizer/BioNTech'], 'New Caledonia': ['Pfizer/BioNTech'], 'New Zealand': ['Oxford/AstraZeneca, Pfizer/BioNTech'], 'Nicaragua': ['Abdala, Johnson&Johnson, Oxford/AstraZeneca, Pfizer/BioNTech, Soberana02, Sputnik Light, Sputnik V'], 'Niger': ['Oxford/AstraZeneca, Sinopharm/Beijing'], 'Nigeria': ['Oxford/AstraZeneca'], 'Niue': ['Pfizer/BioNTech'], 'North Macedonia': ['Oxford/AstraZeneca, Pfizer/BioNTech, Sinopharm/Beijing, Sinovac, Sputnik V'], 'Northern Cyprus': ['Oxford/AstraZeneca, Pfizer/BioNTech, Sinovac'], 'Northern Ireland': ['Moderna, Oxford/AstraZeneca, Pfizer/BioNTech'], 'Norway': ['Moderna, Pfizer/BioNTech'], 'Oman': ['Oxford/AstraZeneca, Pfizer/BioNTech, Sinovac, Sputnik V'], 'Pakistan': ['CanSino, Covaxin, Moderna, Oxford/AstraZeneca, Pfizer/BioNTech, Sinopharm/Beijing, Sinovac, Sputnik V'], 'Palestine': ['Johnson&Johnson, Moderna, Oxford/AstraZeneca, Pfizer/BioNTech, Sinopharm/Beijing, Sinovac, Sputnik Light, Sputnik V'], 'Panama': ['Oxford/AstraZeneca, Pfizer/BioNTech'], 'Papua New Guinea': ['Oxford/AstraZeneca'], 'Paraguay': ['Covaxin, Moderna, Oxford/AstraZeneca, Pfizer/BioNTech, Sinopharm/Beijing, Sinovac, Sputnik V'], 'Peru': ['Oxford/AstraZeneca, Pfizer/BioNTech, Sinopharm/Beijing'], 'Philippines': ['Johnson&Johnson, Moderna, Oxford/AstraZeneca, Pfizer/BioNTech, Sinopharm/Beijing, Sinovac, Sputnik Light, Sputnik V'], 'Pitcairn': ['Oxford/AstraZeneca'], 'Poland': ['Johnson&Johnson, Moderna, Oxford/AstraZeneca, Pfizer/BioNTech'], 'Portugal': ['Johnson&Johnson, Moderna, Oxford/AstraZeneca, Pfizer/BioNTech'], 'Qatar': ['Moderna, Pfizer/BioNTech'], 'Romania': ['Johnson&Johnson, Moderna, Oxford/AstraZeneca, Pfizer/BioNTech'], 'Russia': ['EpiVacCorona, Sputnik V'], 'Rwanda': ['Johnson&Johnson, Moderna, Oxford/AstraZeneca, Pfizer/BioNTech, Sinopharm/Beijing, Sinovac, Sputnik V'], 'Saint Helena': ['Oxford/AstraZeneca'], 'Saint Kitts and Nevis': ['Oxford/AstraZeneca, Pfizer/BioNTech'], 'Saint Lucia': ['Oxford/AstraZeneca, Pfizer/BioNTech'], 'Saint Vincent and the Grenadines': ['Oxford/AstraZeneca'], 'Samoa': ['Oxford/AstraZeneca'], 'San Marino': ['Pfizer/BioNTech, Sputnik V'], 'Sao Tome and Principe': ['Oxford/AstraZeneca'], 'Saudi Arabia': ['Oxford/AstraZeneca, Pfizer/BioNTech'], 'Scotland': ['Moderna, Oxford/AstraZeneca, Pfizer/BioNTech'], 'Senegal': ['Johnson&Johnson, Oxford/AstraZeneca, Sinopharm/Beijing'], 'Serbia': ['Oxford/AstraZeneca, Pfizer/BioNTech, Sinopharm/Beijing, Sputnik V'], 'Seychelles': ['Oxford/AstraZeneca, Sinopharm/Beijing, Sputnik V'], 'Sierra Leone': ['Oxford/AstraZeneca, Sinopharm/Beijing'], 'Singapore': ['Moderna, Pfizer/BioNTech, Sinopharm/Beijing, Sinovac'], 'Sint Maarten (Dutch part)': ['Moderna, Oxford/AstraZeneca, Pfizer/BioNTech'], 'Slovakia': ['Johnson&Johnson, Moderna, Novavax, Oxford/AstraZeneca, Pfizer/BioNTech, Sputnik V'], 'Slovenia': ['Johnson&Johnson, Moderna, Novavax, Oxford/AstraZeneca, Pfizer/BioNTech'], 'Solomon Islands': ['Oxford/AstraZeneca'], 'Somalia': ['Johnson&Johnson, Oxford/AstraZeneca, Sinopharm/Beijing, Sinovac'], 'South Africa': ['Johnson&Johnson, Pfizer/BioNTech'], 'South Korea': ['Johnson&Johnson, Moderna, Novavax, Oxford/AstraZeneca, Pfizer/BioNTech'], 'South Sudan': ['Johnson&Johnson, Oxford/AstraZeneca'], 'Spain': ['Johnson&Johnson, Moderna, Oxford/AstraZeneca, Pfizer/BioNTech'], 'Sri Lanka': ['Moderna, Oxford/AstraZeneca, Pfizer/BioNTech, Sinopharm/Beijing, Sputnik V'], 'Sudan': ['Johnson&Johnson, Oxford/AstraZeneca, Pfizer/BioNTech, Sinopharm/Beijing, Sinovac'], 'Suriname': ['Oxford/AstraZeneca, Pfizer/BioNTech, Sinopharm/Beijing'], 'Sweden': ['Moderna, Oxford/AstraZeneca, Pfizer/BioNTech'], 'Switzerland': ['Johnson&Johnson, Moderna, Pfizer/BioNTech'], 'Syria': ['Johnson&Johnson, Oxford/AstraZeneca, Sinopharm/Beijing, Sinovac, Sputnik Light, Sputnik V'], 'Taiwan': ['Medigen, Moderna, Oxford/AstraZeneca, Pfizer/BioNTech'], 'Tajikistan': ['Moderna, Oxford/AstraZeneca, Pfizer/BioNTech, Sinovac, Sputnik V'], 'Tanzania': ['Johnson&Johnson, Pfizer/BioNTech, Sinopharm/Beijing'], 'Thailand': ['Moderna, Oxford/AstraZeneca, Pfizer/BioNTech, Sinopharm/Beijing, Sinovac'], 'Timor': ['Oxford/AstraZeneca, Pfizer/BioNTech, Sinovac'], 'Togo': ['Oxford/AstraZeneca'], 'Tokelau': ['Pfizer/BioNTech'], 'Tonga': ['Oxford/AstraZeneca'], 'Trinidad and Tobago': ['Johnson&Johnson, Oxford/AstraZeneca, Pfizer/BioNTech, Sinopharm/Beijing'], 'Tunisia': ['Johnson&Johnson, Moderna, Oxford/AstraZeneca, Pfizer/BioNTech, Sinopharm/Beijing, Sinovac, Sputnik V'], 'Turkey': ['Pfizer/BioNTech, Sinovac, Turkovac'], 'Turkmenistan': ['EpiVacCorona, Oxford/AstraZeneca, QazVac, Sinopharm/Beijing, Sputnik V, ZF2001'], 'Turks and Caicos Islands': ['Pfizer/BioNTech'], 'Tuvalu': ['Oxford/AstraZeneca'], 'Uganda': ['Johnson&Johnson, Moderna, Oxford/AstraZeneca, Pfizer/BioNTech, Sinovac'], 'Ukraine': ['Johnson&Johnson, Moderna, Oxford/AstraZeneca, Pfizer/BioNTech, Sinovac'], 'United Arab Emirates': ['Oxford/AstraZeneca, Pfizer/BioNTech, Sinopharm/Beijing, Sinopharm/Wuhan, Sputnik V'], 'United Kingdom': ['Moderna, Oxford/AstraZeneca, Pfizer/BioNTech'], 'United States': ['Johnson&Johnson, Moderna, Pfizer/BioNTech'], 'Uruguay': ['Oxford/AstraZeneca, Pfizer/BioNTech, Sinovac'], 'Uzbekistan': ['Moderna, Oxford/AstraZeneca, Pfizer/BioNTech, Sinovac, Sputnik Light, Sputnik V, ZF2001'], 'Vanuatu': ['Oxford/AstraZeneca'], 'Venezuela': ['Abdala, Sinopharm/Beijing, Sinovac, Soberana02, Sputnik Light, Sputnik V'], 'Vietnam': ['Abdala, Moderna, Oxford/AstraZeneca, Pfizer/BioNTech, Sinopharm/Beijing, Sputnik V'], 'Wales': ['Moderna, Oxford/AstraZeneca, Pfizer/BioNTech'], 'Wallis and Futuna': ['Moderna'], 'Yemen': ['Johnson&Johnson, Oxford/AstraZeneca, Sinovac'], 'Zambia': ['Johnson&Johnson, Oxford/AstraZeneca, Sinopharm/Beijing'], 'Zimbabwe': ['Oxford/AstraZeneca, Sinopharm/Beijing, Sinovac, Sputnik V']}\n",
      "가장 많이 접종한 날: 2021-12-22 가장 적게 접종된 날: 2021-02-22\n"
     ]
    }
   ],
   "source": [
    "import csv\n",
    "import pandas as pd\n",
    "import matplotlib.pyplot as plt\n",
    "\n",
    "f = open(\"country_vaccinations.csv\", encoding='cp949')\n",
    "data = csv.reader(f)\n",
    "next(data)\n",
    "highDaily = []\n",
    "date = []\n",
    "vac = {}\n",
    "for row in data:\n",
    "    highDaily.append(row[7])\n",
    "    date.append(row[2])\n",
    "    if row[0] in vac:\n",
    "        vac[row[0]] = [row[-3]]\n",
    "    else:\n",
    "        vac[row[0]] = [row[-3]]\n",
    "    \n",
    "print(vac)\n",
    "maxIndex = highDaily.index(max(highDaily))\n",
    "minIndex = highDaily.index(min(highDaily))\n",
    "\n",
    "\n",
    "\n",
    "country = list(vac.keys())\n",
    "vaccin = list(vac.values())\n",
    "\n",
    "df = pd.DataFrame(np.array()), index=country, columns=['백신이름', '접종 국가수']);\n",
    "\n",
    "print(df)\n",
    "\n",
    "plt.pie()\n",
    "\n",
    "\n",
    "\n",
    "print(\"가장 많이 접종한 날: \" + date[maxIndex] + \" 가장 적게 접종된 날: \" + date[minIndex])\n"
   ]
  },
  {
   "cell_type": "code",
   "execution_count": null,
   "id": "36aebf9a",
   "metadata": {},
   "outputs": [],
   "source": []
  }
 ],
 "metadata": {
  "kernelspec": {
   "display_name": "Python 3 (ipykernel)",
   "language": "python",
   "name": "python3"
  },
  "language_info": {
   "codemirror_mode": {
    "name": "ipython",
    "version": 3
   },
   "file_extension": ".py",
   "mimetype": "text/x-python",
   "name": "python",
   "nbconvert_exporter": "python",
   "pygments_lexer": "ipython3",
   "version": "3.10.4"
  }
 },
 "nbformat": 4,
 "nbformat_minor": 5
}
